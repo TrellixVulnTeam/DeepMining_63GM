{
 "cells": [
  {
   "cell_type": "code",
   "execution_count": 1,
   "metadata": {},
   "outputs": [],
   "source": [
    "import numpy as np\n",
    "import math\n",
    "import random\n",
    "import matplotlib.pyplot as plt\n",
    "\n",
    "\n",
    "class Point:\n",
    "\n",
    "    def __init__(self, x, y):\n",
    "        self.x = x\n",
    "        self.y = y\n",
    "\n",
    "    def get_dist(self, p):\n",
    "        return math.sqrt(abs(self.x - p.x)**2 + abs(self.y - p.y)**2)\n",
    "\n",
    "\n",
    "class Kmeans:\n",
    "\n",
    "    def __init__(self, n_clusters, max_iter=100, random_restart=1000):\n",
    "        self.n_clusters = n_clusters\n",
    "        self.max_iter = max_iter\n",
    "        self.random_restart = random_restart\n",
    "\n",
    "    def get_centroids(self, data):\n",
    "        return data[random.sample(range(len(data)), self.n_clusters)]\n",
    "\n",
    "    def compute_centroids(self, data, labels):\n",
    "        centroids = []\n",
    "        coords = np.array([[p.x, p.y] for p in data])\n",
    "        for i in range(self.n_clusters):\n",
    "            mean = np.mean(coords[labels == i], axis=0)\n",
    "            centroids.append(Point(mean[0], mean[1]))\n",
    "        return centroids\n",
    "\n",
    "    def get_distances_to_centroid(self, centroid, data):\n",
    "        return [point.get_dist(centroid) for point in data]\n",
    "\n",
    "    def compute_distances(self, data, centroids):\n",
    "        distances = np.zeros((len(data), self.n_clusters))\n",
    "        for k in range(self.n_clusters):\n",
    "            distances_to_centroid = self.get_distances_to_centroid(\n",
    "                centroids[k], data)\n",
    "            distances[:, k] = distances_to_centroid\n",
    "        return distances\n",
    "\n",
    "    def find_closest_cluster(self, distances):\n",
    "        return np.argmin(distances, axis=1)\n",
    "\n",
    "    def compute_var(self, labels, distances):\n",
    "        return [np.sum(np.square([distances[labels == i][:, i]])) for i in range(self.n_clusters)]\n",
    "\n",
    "    def fit(self, X):\n",
    "        best_var = float('inf')\n",
    "        for t in range(self.random_restart):\n",
    "            self.centroids = self.get_centroids(X)\n",
    "            for i in range(self.max_iter):\n",
    "                old_centroids = self.centroids\n",
    "                distances = self.compute_distances(X, old_centroids)\n",
    "                self.labels = self.find_closest_cluster(distances)\n",
    "                self.centroids = self.compute_centroids(X, self.labels)\n",
    "                if np.all(old_centroids == self.centroids):\n",
    "                    break\n",
    "            var = self.compute_var(self.labels, distances)\n",
    "            if np.mean(var) < best_var:\n",
    "                self.best_centroids = self.centroids\n",
    "                best_var = np.mean(var)\n",
    "\n",
    "    def predict(self, data):\n",
    "        distances = self.compute_distances(data, self.best_centroids)\n",
    "        return self.find_closest_cluster(distances)\n",
    "\n"
   ]
  },
  {
   "cell_type": "code",
   "execution_count": 2,
   "metadata": {},
   "outputs": [
    {
     "data": {
      "image/png": "[encoded data removed]",
      "text/plain": [
       "<Figure size 432x288 with 1 Axes>"
      ]
     },
     "metadata": {
      "needs_background": "light"
     },
     "output_type": "display_data"
    }
   ],
   "source": [
    "if __name__ == \"__main__\":\n",
    "    file = \"unbalance.txt\"\n",
    "    n_clusters = 8\n",
    "    f = open(file, \"r\")\n",
    "    points = []\n",
    "\n",
    "    for x in f:\n",
    "        line = x.split()\n",
    "        points.append(Point(float(line[0]), float(line[1])))\n",
    "    # Plot the data\n",
    "    plt.scatter([p.x for p in points], [p.y for p in points])\n",
    "    plt.title('Visualization of raw data')\n",
    "    plt.show()"
   ]
  },
  {
   "cell_type": "code",
   "execution_count": null,
   "metadata": {},
   "outputs": [],
   "source": [
    "km = Kmeans(n_clusters=8, max_iter=1)\n",
    "points = np.array(points)\n",
    "km.fit(points)\n",
    "centroids = km.centroids\n",
    "\n",
    "labels = km.predict(points)\n",
    "cls = []\n",
    "for i in range(n_clusters):\n",
    "    clx = [p.x for p in points[labels == i]]\n",
    "    cly = [p.y for p in points[labels == i]]\n",
    "    cls.append([clx, cly])\n",
    "    \n",
    "for i in range(n_clusters):\n",
    "    plt.scatter(cls[i][0], cls[i][1])\n",
    "plt.show()"
   ]
  },
  {
   "cell_type": "code",
   "execution_count": null,
   "metadata": {},
   "outputs": [],
   "source": []
  },
  {
   "cell_type": "code",
   "execution_count": null,
   "metadata": {},
   "outputs": [],
   "source": []
  }
 ],
 "metadata": {
  "kernelspec": {
   "display_name": "kmeans",
   "language": "python",
   "name": "kmeans"
  },
  "language_info": {
   "codemirror_mode": {
    "name": "ipython",
    "version": 3
   },
   "file_extension": ".py",
   "mimetype": "text/x-python",
   "name": "python",
   "nbconvert_exporter": "python",
   "pygments_lexer": "ipython3",
   "version": "3.8.5"
  }
 },
 "nbformat": 4,
 "nbformat_minor": 4
}
